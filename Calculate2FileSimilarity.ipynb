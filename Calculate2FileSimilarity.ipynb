{
 "cells": [
  {
   "cell_type": "code",
   "execution_count": 12,
   "metadata": {},
   "outputs": [],
   "source": [
    "import string\n",
    "from collections import OrderedDict"
   ]
  },
  {
   "cell_type": "code",
   "execution_count": 13,
   "metadata": {},
   "outputs": [],
   "source": [
    "def extractUniqueWords(words):\n",
    "    unique_words = []\n",
    "    for word in words:\n",
    "        if word not in unique_words:\n",
    "            unique_words.append(word)\n",
    "    return unique_words\n",
    "\n",
    "def cleanData(file_text):\n",
    "    file_text = file_text.lower()\n",
    "    file_text = file_text.translate(str.maketrans('', '', string.punctuation))\n",
    "    cleaned_data = file_text.split()\n",
    "    return cleaned_data\n",
    "\n",
    "def sortDictionary(dictionary):\n",
    "    sorted_dict = OrderedDict(sorted(dictionary.items(), key=lambda x: x[1], reverse=True))\n",
    "    return sorted_dict"
   ]
  },
  {
   "cell_type": "code",
   "execution_count": 14,
   "metadata": {},
   "outputs": [],
   "source": [
    "with open(\"TextFiles/assemblyX86.txt\", \"r+\") as file1:\n",
    "    file_text = file1.read()\n",
    "\n",
    "words_1 = cleanData(file_text)\n",
    "unique_words_1 = extractUniqueWords(words_1)\n",
    "\n",
    "with open(\"TextFiles/whyProgramming.txt\", \"r+\") as file2:\n",
    "    file_text = file2.read()\n",
    "\n",
    "words_2 = cleanData(file_text)\n",
    "unique_words_2 = extractUniqueWords(words_2)"
   ]
  },
  {
   "cell_type": "code",
   "execution_count": 15,
   "metadata": {},
   "outputs": [
    {
     "name": "stdout",
     "output_type": "stream",
     "text": [
      "Result of Approach-1: \n",
      "Similarity of our main dictionary to itself:  100.0 / 100\n",
      "Similarity of text_1 to main dictionary:  42.97 / 100\n",
      "Similarity of text_2 to main dictionary:  57.03 / 100\n",
      "Similarity of text_1 to text_2 based on main dictionary:  20.97 / 100\n"
     ]
    }
   ],
   "source": [
    "### Approach-1: Not Optimized\n",
    "dictionary = {}\n",
    "for word in unique_words_1 + unique_words_2:\n",
    "    dictionary[word] = words_1.count(word) + words_2.count(word)\n",
    "\n",
    "dictionary_1 = {}\n",
    "for word in unique_words_1 + unique_words_2:\n",
    "    dictionary_1[word] = words_1.count(word)\n",
    "\n",
    "dictionary_2 = {}\n",
    "for word in unique_words_1 + unique_words_2:\n",
    "    dictionary_2[word] = words_2.count(word)\n",
    "\n",
    "dictionary_value = list(dictionary.values())\n",
    "dictionary_1_value = list(dictionary_1.values())\n",
    "dictionary_2_value = list(dictionary_2.values())\n",
    "\n",
    "# for test\n",
    "# print(dictionary_value)\n",
    "# print(dictionary_1_value)\n",
    "# print(dictionary_2_value)\n",
    "\n",
    "# for test\n",
    "# print(len(dictionary_value))\n",
    "# print(dictionary_1_value.count(0))\n",
    "# print(dictionary_2_value.count(0))\n",
    "\n",
    "dictionary_text1_similarity = 0\n",
    "dictionary_text2_similarity = 0\n",
    "text1_text2_similarity = 0\n",
    "dictionary_dictionary_similarity = 0\n",
    "\n",
    "for i in range(len(dictionary_value)):\n",
    "    dictionary_text1_similarity += dictionary_value[i] * dictionary_1_value[i]\n",
    "    dictionary_text2_similarity += dictionary_value[i] * dictionary_2_value[i]\n",
    "    text1_text2_similarity += dictionary_1_value[i] * dictionary_2_value[i]\n",
    "    dictionary_dictionary_similarity += dictionary_value[i] * dictionary_value[i]\n",
    "\n",
    "dictionary_text1_similarity = dictionary_text1_similarity / len(dictionary_value)\n",
    "dictionary_text2_similarity = dictionary_text2_similarity / len(dictionary_value)\n",
    "text1_text2_similarity = text1_text2_similarity / len(dictionary_value)\n",
    "dictionary_dictionary_similarity = dictionary_dictionary_similarity / len(dictionary_value)\n",
    "\n",
    "print(\"Result of Approach-1: \")\n",
    "print(\"Similarity of our main dictionary to itself: \", dictionary_dictionary_similarity / dictionary_dictionary_similarity * 100, \"/ 100\")\n",
    "print(\"Similarity of text_1 to main dictionary: \", round(dictionary_text1_similarity / dictionary_dictionary_similarity * 100, 2), \"/ 100\")\n",
    "print(\"Similarity of text_2 to main dictionary: \", round(dictionary_text2_similarity / dictionary_dictionary_similarity * 100, 2), \"/ 100\")\n",
    "print(\"Similarity of text_1 to text_2 based on main dictionary: \", round(text1_text2_similarity / dictionary_dictionary_similarity * 100, 2), \"/ 100\")"
   ]
  },
  {
   "cell_type": "code",
   "execution_count": 16,
   "metadata": {},
   "outputs": [],
   "source": [
    "### Approach-2: Optimized\n",
    "## Remove the words with 0 frequency and using 2 pointer idea like merge sort\n",
    "optimized_dictionary_1 = {}\n",
    "for key, value in dictionary_1.items():\n",
    "    if value != 0:\n",
    "        optimized_dictionary_1[key] = value\n",
    "\n",
    "optimized_dictionary_1_value = list(optimized_dictionary_1.values())\n",
    "sorted_optimized_dictionary_1 = sortDictionary(optimized_dictionary_1)\n",
    "\n",
    "# print(sorted_optimized_dictionary_1)\n",
    "\n",
    "optimized_dictionary_2 = {}\n",
    "for key, value in dictionary_2.items():\n",
    "    if value != 0:\n",
    "        optimized_dictionary_2[key] = value\n",
    "\n",
    "optimized_dictionary_2_value = list(optimized_dictionary_2.values())\n",
    "sorted_optimized_dictionary_2 = sortDictionary(optimized_dictionary_2)\n",
    "\n",
    "# print(sorted_optimized_dictionary_2)\n",
    "\n",
    "## i want to implement an idea like the combine part of merge sort for combining the two sorted optimized dictionaries\n",
    "combined_dictionary = {}\n",
    "dic_1_pointer = 0\n",
    "dic_2_pointer = 0\n",
    "\n",
    "keys_1 = list(sorted_optimized_dictionary_1.keys())\n",
    "keys_2 = list(sorted_optimized_dictionary_2.keys())\n",
    "\n",
    "# iterate until one of the dictionaries is fully processed\n",
    "while dic_1_pointer < len(keys_1) and dic_2_pointer < len(keys_2):\n",
    "    key_1 = keys_1[dic_1_pointer]\n",
    "    key_2 = keys_2[dic_2_pointer]\n",
    "    \n",
    "    # because keys can be Integer or String\n",
    "    key_1_str = str(key_1)\n",
    "    key_2_str = str(key_2)\n",
    "\n",
    "    if key_1_str < key_2_str:\n",
    "        combined_dictionary[key_1] = sorted_optimized_dictionary_1[key_1]\n",
    "        dic_1_pointer += 1\n",
    "    elif key_1_str > key_2_str:\n",
    "        combined_dictionary[key_2] = sorted_optimized_dictionary_2[key_2]\n",
    "        dic_2_pointer += 1\n",
    "    else:  # if keys are equal\n",
    "        combined_dictionary[key_1] = sorted_optimized_dictionary_1[key_1] + sorted_optimized_dictionary_2[key_2]\n",
    "        dic_1_pointer += 1\n",
    "        dic_2_pointer += 1\n",
    "\n",
    "# add remaining elements from the first dictionary\n",
    "while dic_1_pointer < len(keys_1):\n",
    "    key_1 = keys_1[dic_1_pointer]\n",
    "    combined_dictionary[key_1] = sorted_optimized_dictionary_1[key_1]\n",
    "    dic_1_pointer += 1\n",
    "\n",
    "# add remaining elements from the second dictionary\n",
    "while dic_2_pointer < len(keys_2):\n",
    "    key_2 = keys_2[dic_2_pointer]\n",
    "    combined_dictionary[key_2] = sorted_optimized_dictionary_2[key_2]\n",
    "    dic_2_pointer += 1"
   ]
  },
  {
   "cell_type": "code",
   "execution_count": 17,
   "metadata": {},
   "outputs": [
    {
     "name": "stdout",
     "output_type": "stream",
     "text": [
      "Result of Approach-2: \n",
      "Similarity of text_1 to text_2 based on combined dictionary:  20.97 / 100\n"
     ]
    }
   ],
   "source": [
    "# similarity of text_1 to text_2 based on the combined dictionary\n",
    "text1_text2_similarity = 0\n",
    "\n",
    "for key, value in combined_dictionary.items():\n",
    "    if key in dictionary_1 and key in dictionary_2:\n",
    "        text1_text2_similarity += dictionary_1[key] * dictionary_2[key]\n",
    "\n",
    "text1_text2_similarity = text1_text2_similarity / len(combined_dictionary)\n",
    "\n",
    "print(\"Result of Approach-2: \")\n",
    "print(\"Similarity of text_1 to text_2 based on combined dictionary: \", round(text1_text2_similarity / dictionary_dictionary_similarity * 100, 2), \"/ 100\")"
   ]
  }
 ],
 "metadata": {
  "kernelspec": {
   "display_name": "Python 3",
   "language": "python",
   "name": "python3"
  },
  "language_info": {
   "codemirror_mode": {
    "name": "ipython",
    "version": 3
   },
   "file_extension": ".py",
   "mimetype": "text/x-python",
   "name": "python",
   "nbconvert_exporter": "python",
   "pygments_lexer": "ipython3",
   "version": "3.11.5"
  }
 },
 "nbformat": 4,
 "nbformat_minor": 2
}
